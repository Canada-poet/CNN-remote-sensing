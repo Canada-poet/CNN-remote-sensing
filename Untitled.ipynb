{
 "cells": [
  {
   "cell_type": "code",
   "execution_count": null,
   "metadata": {},
   "outputs": [],
   "source": [
    "%matplotlib inline\n",
    "import numpy as np\n",
    "import pandas as pd\n",
    "import matplotlib.pyplot as plt\n",
    "import assistCNN\n",
    "import pickle"
   ]
  },
  {
   "cell_type": "code",
   "execution_count": null,
   "metadata": {},
   "outputs": [],
   "source": [
    "dane='training.pickle'\n",
    "dane_test=assistCNN.podzial_klas_na_2(dane)\n",
    "x_trening=dane_test[0]['ekstrakcja']\n",
    "x_trening=assistCNN.np.array(x_trening)\n",
    "x_test=dane_test[1]['ekstrakcja']\n",
    "y_trening=dane_test[0]['klasa']\n",
    "y_test=dane_test[1]['klasa']"
   ]
  }
 ],
 "metadata": {
  "kernelspec": {
   "display_name": "Python 3",
   "language": "python",
   "name": "python3"
  },
  "language_info": {
   "codemirror_mode": {
    "name": "ipython",
    "version": 3
   },
   "file_extension": ".py",
   "mimetype": "text/x-python",
   "name": "python",
   "nbconvert_exporter": "python",
   "pygments_lexer": "ipython3",
   "version": "3.6.6"
  }
 },
 "nbformat": 4,
 "nbformat_minor": 2
}
